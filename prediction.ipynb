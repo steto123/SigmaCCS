{
 "cells": [
  {
   "cell_type": "code",
   "execution_count": 1,
   "id": "4140d398",
   "metadata": {},
   "outputs": [],
   "source": [
    "#    _____ _  _____ __  __          \n",
    "#   / ____(_)/ ____|  \\/  |   /\\    \n",
    "#  | (___  _| |  __| \\  / |  /  \\   \n",
    "#   \\___ \\| | | |_ | |\\/| | / /\\ \\  \n",
    "#   ____) | | |__| | |  | |/ ____ \\ \n",
    "#  |_____/|_|\\_____|_|  |_/_/    \\_\\ \n",
    "\n",
    "\n",
    "######                                                      \n",
    "#     # #####  ###### #####  #  ####  ##### #  ####  #    # \n",
    "#     # #    # #      #    # # #    #   #   # #    # ##   # \n",
    "######  #    # #####  #    # # #        #   # #    # # #  # \n",
    "#       #####  #      #    # # #        #   # #    # #  # # \n",
    "#       #   #  #      #    # # #    #   #   # #    # #   ## \n",
    "#       #    # ###### #####  #  ####    #   #  ####  #    # "
   ]
  },
  {
   "cell_type": "code",
   "execution_count": 2,
   "id": "acbd7a4c",
   "metadata": {},
   "outputs": [
    {
     "name": "stdout",
     "output_type": "stream",
     "text": [
      "## Read data :  1\n",
      "## All Atoms  :  ['As', 'Br', 'C', 'Cl', 'F', 'I', 'N', 'O', 'P', 'S', 'Se']\n",
      "## All Adduct :  ['[M+H]+', '[M+Na]+', '[M-H]-']\n",
      "The generation of 3d conformers:   0%|                              | 0/1 [00:00<?, ?it/s]\n",
      "## 3D coordinates generated successfully \n",
      "## Graph & Adduct dataset completed\n",
      "## Model loading completed\n",
      "Predictions:   0%|                                                  | 0/1 [00:00<?, ?it/s]\n",
      "## CCS predicted completed\n"
     ]
    },
    {
     "name": "stderr",
     "output_type": "stream",
     "text": [
      "C:\\Users\\wotan\\anaconda3\\envs\\sigma\\lib\\site-packages\\sklearn\\metrics\\_regression.py:682: UndefinedMetricWarning: R^2 score is not well-defined with less than two samples.\n",
      "  warnings.warn(msg, UndefinedMetricWarning)\n"
     ]
    },
    {
     "data": {
      "text/plain": [
       "(nan, 1.8293089044939976)"
      ]
     },
     "execution_count": 2,
     "metadata": {},
     "output_type": "execute_result"
    }
   ],
   "source": [
    "from sigma.sigma import *\n",
    "ifile = 'data/TestData.csv'\n",
    "ParameterPath = 'parameter/parameter.pkl'\n",
    "mfileh5 = 'model/model.h5' \n",
    "ofile = 'data/Test2Data-pred.csv'\n",
    "\n",
    "Model_prediction(ifile,ParameterPath,mfileh5,ofile,Isevaluate=True)"
   ]
  },
  {
   "cell_type": "code",
   "execution_count": null,
   "id": "6ad80763",
   "metadata": {},
   "outputs": [],
   "source": []
  }
 ],
 "metadata": {
  "kernelspec": {
   "display_name": "Python 3 (ipykernel)",
   "language": "python",
   "name": "python3"
  },
  "language_info": {
   "codemirror_mode": {
    "name": "ipython",
    "version": 3
   },
   "file_extension": ".py",
   "mimetype": "text/x-python",
   "name": "python",
   "nbconvert_exporter": "python",
   "pygments_lexer": "ipython3",
   "version": "3.7.10"
  }
 },
 "nbformat": 4,
 "nbformat_minor": 5
}
